{
 "cells": [
  {
   "cell_type": "markdown",
   "metadata": {},
   "source": [
    "## first project\n",
    "\n",
    "# search .ipynb in projects\n",
    "* number\n",
    "- file name"
   ]
  },
  {
   "cell_type": "code",
   "execution_count": 1,
   "metadata": {},
   "outputs": [],
   "source": [
    "import os"
   ]
  },
  {
   "cell_type": "code",
   "execution_count": 2,
   "metadata": {},
   "outputs": [
    {
     "data": {
      "text/plain": [
       "['.git',\n",
       " '.ipynb_checkpoints',\n",
       " '16 normal FFPE blocks_180104.xlsx',\n",
       " '3F TMS.JPG',\n",
       " 'demo-1.ipynb',\n",
       " 'demo-2.ipynb',\n",
       " 'demo-3.ipynb',\n",
       " 'demo.ipynb',\n",
       " 'index.md',\n",
       " 'project1.ipynb',\n",
       " 'python_code.py',\n",
       " 'README.md',\n",
       " 'world.png']"
      ]
     },
     "execution_count": 2,
     "metadata": {},
     "output_type": "execute_result"
    }
   ],
   "source": [
    "os.listdir()"
   ]
  },
  {
   "cell_type": "code",
   "execution_count": 4,
   "metadata": {},
   "outputs": [
    {
     "ename": "SyntaxError",
     "evalue": "(unicode error) 'unicodeescape' codec can't decode bytes in position 0-1: truncated \\UXXXXXXXX escape (<ipython-input-4-ef36033b2cb5>, line 1)",
     "output_type": "error",
     "traceback": [
      "\u001b[1;36m  File \u001b[1;32m\"<ipython-input-4-ef36033b2cb5>\"\u001b[1;36m, line \u001b[1;32m1\u001b[0m\n\u001b[1;33m    os.listdir('\\Users\\tywu\\Documents\\GitHub\\TravelingCollect')\u001b[0m\n\u001b[1;37m              ^\u001b[0m\n\u001b[1;31mSyntaxError\u001b[0m\u001b[1;31m:\u001b[0m (unicode error) 'unicodeescape' codec can't decode bytes in position 0-1: truncated \\UXXXXXXXX escape\n"
     ]
    }
   ],
   "source": [
    "os.listdir('\\Users\\tywu\\Documents\\GitHub\\TravelingCollect')"
   ]
  },
  {
   "cell_type": "code",
   "execution_count": 6,
   "metadata": {},
   "outputs": [
    {
     "data": {
      "text/plain": [
       "range(0, 20)"
      ]
     },
     "execution_count": 6,
     "metadata": {},
     "output_type": "execute_result"
    }
   ],
   "source": [
    "range(20)"
   ]
  },
  {
   "cell_type": "code",
   "execution_count": 7,
   "metadata": {},
   "outputs": [
    {
     "name": "stdout",
     "output_type": "stream",
     "text": [
      "0\n",
      "1\n",
      "2\n",
      "3\n",
      "4\n",
      "5\n",
      "6\n",
      "7\n",
      "8\n",
      "9\n"
     ]
    }
   ],
   "source": [
    "for i in range(10):\n",
    "    print(i)"
   ]
  },
  {
   "cell_type": "code",
   "execution_count": 8,
   "metadata": {},
   "outputs": [
    {
     "data": {
      "text/plain": [
       "['.git',\n",
       " '.ipynb_checkpoints',\n",
       " '16 normal FFPE blocks_180104.xlsx',\n",
       " '3F TMS.JPG',\n",
       " 'demo-1.ipynb',\n",
       " 'demo-2.ipynb',\n",
       " 'demo-3.ipynb',\n",
       " 'demo.ipynb',\n",
       " 'index.md',\n",
       " 'project1.ipynb',\n",
       " 'python_code.py',\n",
       " 'README.md',\n",
       " 'world.png']"
      ]
     },
     "execution_count": 8,
     "metadata": {},
     "output_type": "execute_result"
    }
   ],
   "source": [
    "file = os.listdir()\n",
    "file"
   ]
  },
  {
   "cell_type": "code",
   "execution_count": 9,
   "metadata": {},
   "outputs": [
    {
     "data": {
      "text/plain": [
       "13"
      ]
     },
     "execution_count": 9,
     "metadata": {},
     "output_type": "execute_result"
    }
   ],
   "source": [
    "len(file)"
   ]
  },
  {
   "cell_type": "code",
   "execution_count": 10,
   "metadata": {},
   "outputs": [
    {
     "data": {
      "text/plain": [
       "'.git'"
      ]
     },
     "execution_count": 10,
     "metadata": {},
     "output_type": "execute_result"
    }
   ],
   "source": [
    "file[0]"
   ]
  },
  {
   "cell_type": "code",
   "execution_count": 11,
   "metadata": {},
   "outputs": [
    {
     "name": "stdout",
     "output_type": "stream",
     "text": [
      "1:.git\n",
      "2:.ipynb_checkpoints\n",
      "3:16 normal FFPE blocks_180104.xlsx\n",
      "4:3F TMS.JPG\n",
      "5:demo-1.ipynb\n",
      "6:demo-2.ipynb\n",
      "7:demo-3.ipynb\n",
      "8:demo.ipynb\n",
      "9:index.md\n",
      "10:project1.ipynb\n",
      "11:python_code.py\n",
      "12:README.md\n",
      "13:world.png\n"
     ]
    }
   ],
   "source": [
    "i = 0\n",
    "for _ in file:\n",
    "    i = i+1\n",
    "    print (str(i) + \":\" + _)"
   ]
  },
  {
   "cell_type": "code",
   "execution_count": 12,
   "metadata": {},
   "outputs": [
    {
     "name": "stdout",
     "output_type": "stream",
     "text": [
      "2:.ipynb_checkpoints\n",
      "5:demo-1.ipynb\n",
      "6:demo-2.ipynb\n",
      "7:demo-3.ipynb\n",
      "8:demo.ipynb\n",
      "10:project1.ipynb\n"
     ]
    }
   ],
   "source": [
    "i = 0\n",
    "for _ in file:\n",
    "    i = i+1\n",
    "    if '.ipynb' in _:\n",
    "        print (str(i) + \":\" + _)"
   ]
  },
  {
   "cell_type": "code",
   "execution_count": 13,
   "metadata": {},
   "outputs": [
    {
     "name": "stdout",
     "output_type": "stream",
     "text": [
      "5:demo-1.ipynb\n",
      "6:demo-2.ipynb\n",
      "7:demo-3.ipynb\n",
      "8:demo.ipynb\n",
      "10:project1.ipynb\n"
     ]
    }
   ],
   "source": [
    "i = 0\n",
    "for _ in file:\n",
    "    i = i+1\n",
    "    if _.endswith('.ipynb'):\n",
    "        print (str(i) + \":\" + _)"
   ]
  },
  {
   "cell_type": "code",
   "execution_count": 14,
   "metadata": {},
   "outputs": [
    {
     "name": "stdout",
     "output_type": "stream",
     "text": [
      "5:demo-1.ipynb\n",
      "6:demo-2.ipynb\n",
      "7:demo-3.ipynb\n",
      "8:demo.ipynb\n",
      "10:project1.ipynb\n",
      "5\n"
     ]
    }
   ],
   "source": [
    "i = 0\n",
    "j = 0\n",
    "for _ in file:\n",
    "    i = i+1\n",
    "    if _.endswith('.ipynb'):\n",
    "        j = j+1\n",
    "        print (str(i) + \":\" + _)\n",
    "print(j)"
   ]
  },
  {
   "cell_type": "code",
   "execution_count": null,
   "metadata": {},
   "outputs": [],
   "source": []
  }
 ],
 "metadata": {
  "kernelspec": {
   "display_name": "Python 3",
   "language": "python",
   "name": "python3"
  },
  "language_info": {
   "codemirror_mode": {
    "name": "ipython",
    "version": 3
   },
   "file_extension": ".py",
   "mimetype": "text/x-python",
   "name": "python",
   "nbconvert_exporter": "python",
   "pygments_lexer": "ipython3",
   "version": "3.7.1"
  }
 },
 "nbformat": 4,
 "nbformat_minor": 2
}
