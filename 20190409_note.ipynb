{
 "cells": [
  {
   "cell_type": "code",
   "execution_count": 1,
   "metadata": {},
   "outputs": [
    {
     "data": {
      "text/plain": [
       "0.5384615384615384"
      ]
     },
     "execution_count": 1,
     "metadata": {},
     "output_type": "execute_result"
    }
   ],
   "source": [
    "a = 'ACTTGCCCTAGCT'\n",
    "(a.count('C') + a.count('G')) /len(a)  # GC content calculation"
   ]
  },
  {
   "cell_type": "code",
   "execution_count": 3,
   "metadata": {},
   "outputs": [
    {
     "data": {
      "text/plain": [
       "'ACTTG'"
      ]
     },
     "execution_count": 3,
     "metadata": {},
     "output_type": "execute_result"
    }
   ],
   "source": [
    "a[0:5]   #字串和list很像, 但無法像list一樣有很多功能"
   ]
  },
  {
   "cell_type": "markdown",
   "metadata": {},
   "source": [
    "for _ in a:\n",
    "    print(a)"
   ]
  },
  {
   "cell_type": "markdown",
   "metadata": {},
   "source": [
    "### Example-1: 找出C:\\Users\\tywu\\Documents\\GitHub\\TravelingCollect\\python101_demo_data\\data_wo_sudir 內\".xls\", \".txt\", \".vcf\"的檔案各有多少筆，以及各黨名的長度"
   ]
  },
  {
   "cell_type": "code",
   "execution_count": 6,
   "metadata": {},
   "outputs": [],
   "source": [
    "import os"
   ]
  },
  {
   "cell_type": "code",
   "execution_count": 14,
   "metadata": {},
   "outputs": [],
   "source": [
    "file = os.listdir(r'C:\\Users\\tywu\\Documents\\GitHub\\TravelingCollect\\python101_demo_data\\data_wo_sudir')"
   ]
  },
  {
   "cell_type": "code",
   "execution_count": 19,
   "metadata": {},
   "outputs": [
    {
     "name": "stdout",
     "output_type": "stream",
     "text": [
      "48 Proton_A_845_20181220_IonXpress_037.amplicon.cov.xls\n",
      "44 Proton_A_845_20181220_IonXpress_037.base.cov.xls\n",
      "45 Proton_A_845_20181220_IonXpress_037.stats.cov.txt\n",
      "48 Proton_A_845_20181220_IonXpress_038.amplicon.cov.xls\n",
      "44 Proton_A_845_20181220_IonXpress_038.base.cov.xls\n",
      "45 Proton_A_845_20181220_IonXpress_038.stats.cov.txt\n",
      "48 Proton_A_845_20181220_IonXpress_039.amplicon.cov.xls\n",
      "44 Proton_A_845_20181220_IonXpress_039.base.cov.xls\n",
      "45 Proton_A_845_20181220_IonXpress_039.stats.cov.txt\n",
      "48 Proton_A_845_20181220_IonXpress_040.amplicon.cov.xls\n",
      "44 Proton_A_845_20181220_IonXpress_040.base.cov.xls\n",
      "45 Proton_A_845_20181220_IonXpress_040.stats.cov.txt\n",
      "49 Proton_A_868_20190125_IonXpress_001_TSVC_variants.vcf\n",
      "49 Proton_A_868_20190125_IonXpress_002_TSVC_variants.vcf\n",
      "49 Proton_A_868_20190125_IonXpress_003_TSVC_variants.vcf\n",
      "49 Proton_A_868_20190125_IonXpress_059_TSVC_variants.vcf\n",
      "49 Proton_A_868_20190125_IonXpress_060_TSVC_variants.vcf\n",
      "49 Proton_A_868_20190125_IonXpress_062_TSVC_variants.vcf\n",
      "49 Proton_A_868_20190125_IonXpress_063_TSVC_variants.vcf\n",
      "49 Proton_A_868_20190125_IonXpress_064_TSVC_variants.vcf\n",
      "49 Proton_A_868_20190125_IonXpress_065_TSVC_variants.vcf\n",
      "49 Proton_A_868_20190125_IonXpress_066_TSVC_variants.vcf\n",
      "49 Proton_A_868_20190125_IonXpress_090_TSVC_variants.vcf\n",
      "49 Proton_A_868_20190125_IonXpress_093_TSVC_variants.vcf\n",
      "49 Proton_A_868_20190125_IonXpress_094_TSVC_variants.vcf\n",
      "49 Proton_A_868_20190125_IonXpress_095_TSVC_variants.vcf\n",
      "49 Proton_A_868_20190125_IonXpress_096_TSVC_variants.vcf\n",
      "48 Proton_A_878_20190305_IonXpress_071.amplicon.cov.xls\n",
      "44 Proton_A_878_20190305_IonXpress_071.base.cov.xls\n",
      "45 Proton_A_878_20190305_IonXpress_071.stats.cov.txt\n",
      "48 Proton_A_878_20190305_IonXpress_072.amplicon.cov.xls\n",
      "44 Proton_A_878_20190305_IonXpress_072.base.cov.xls\n",
      "45 Proton_A_878_20190305_IonXpress_072.stats.cov.txt\n",
      "48 Proton_A_878_20190305_IonXpress_073.amplicon.cov.xls\n",
      "44 Proton_A_878_20190305_IonXpress_073.base.cov.xls\n",
      "45 Proton_A_878_20190305_IonXpress_073.stats.cov.txt\n",
      "48 Proton_A_878_20190305_IonXpress_074.amplicon.cov.xls\n",
      "44 Proton_A_878_20190305_IonXpress_074.base.cov.xls\n",
      "45 Proton_A_878_20190305_IonXpress_074.stats.cov.txt\n",
      "48 Proton_A_878_20190305_IonXpress_075.amplicon.cov.xls\n",
      "44 Proton_A_878_20190305_IonXpress_075.base.cov.xls\n",
      "45 Proton_A_878_20190305_IonXpress_075.stats.cov.txt\n",
      "48 Proton_A_878_20190305_IonXpress_076.amplicon.cov.xls\n",
      "44 Proton_A_878_20190305_IonXpress_076.base.cov.xls\n",
      "45 Proton_A_878_20190305_IonXpress_076.stats.cov.txt\n",
      "48 Proton_A_878_20190305_IonXpress_077.amplicon.cov.xls\n",
      "44 Proton_A_878_20190305_IonXpress_077.base.cov.xls\n",
      "45 Proton_A_878_20190305_IonXpress_077.stats.cov.txt\n",
      "48 Proton_A_890_20190328_IonXpress_062.amplicon.cov.xls\n",
      "44 Proton_A_890_20190328_IonXpress_062.base.cov.xls\n",
      "45 Proton_A_890_20190328_IonXpress_062.stats.cov.txt\n",
      "48 Proton_A_890_20190328_IonXpress_063.amplicon.cov.xls\n",
      "44 Proton_A_890_20190328_IonXpress_063.base.cov.xls\n",
      "45 Proton_A_890_20190328_IonXpress_063.stats.cov.txt\n",
      "48 Proton_A_890_20190328_IonXpress_065.amplicon.cov.xls\n",
      "44 Proton_A_890_20190328_IonXpress_065.base.cov.xls\n",
      "45 Proton_A_890_20190328_IonXpress_065.stats.cov.txt\n",
      "48 Proton_A_890_20190328_IonXpress_066.amplicon.cov.xls\n",
      "44 Proton_A_890_20190328_IonXpress_066.base.cov.xls\n",
      "45 Proton_A_890_20190328_IonXpress_066.stats.cov.txt\n",
      "49 Proton_A_891_20190402_IonXpress_067_TSVC_variants.vcf\n",
      "49 Proton_A_891_20190402_IonXpress_068_TSVC_variants.vcf\n",
      "49 Proton_A_891_20190402_IonXpress_070_TSVC_variants.vcf\n",
      "49 Proton_A_891_20190402_IonXpress_071_TSVC_variants.vcf\n",
      "xls file :30\n",
      "txt file :15\n",
      "vcf file :19\n"
     ]
    }
   ],
   "source": [
    "xls = []\n",
    "txt = []\n",
    "vcf = []\n",
    "\n",
    "for _ in file:\n",
    "    if _.endswith('.xls'):\n",
    "        print(len(_) - 4, _)\n",
    "        xls.append(_)\n",
    "    elif _.endswith('.txt'):\n",
    "        print(len(_) - 4, _)\n",
    "        txt.append(_)\n",
    "    elif _.endswith('.vcf'):\n",
    "        print(len(_) - 4, _)\n",
    "        vcf.append(_)\n",
    "    else:\n",
    "        print('')\n",
    "\n",
    "print('xls file :' + str(len(xls)))\n",
    "print('txt file :' + str(len(txt)))\n",
    "print('vcf file :' + str(len(vcf)))"
   ]
  },
  {
   "cell_type": "markdown",
   "metadata": {},
   "source": [
    "## os.walk(specific file) : 搜尋指定資料夾下所有的子資料夾"
   ]
  },
  {
   "cell_type": "code",
   "execution_count": 20,
   "metadata": {},
   "outputs": [
    {
     "data": {
      "text/plain": [
       "<generator object walk at 0x000001A58B901660>"
      ]
     },
     "execution_count": 20,
     "metadata": {},
     "output_type": "execute_result"
    }
   ],
   "source": [
    "os.walk('C:/Users/tywu/Documents/GitHub/TravelingCollect/python101_demo_data/data_with_subdir/')"
   ]
  },
  {
   "cell_type": "code",
   "execution_count": 24,
   "metadata": {},
   "outputs": [
    {
     "name": "stdout",
     "output_type": "stream",
     "text": [
      "['CNV', 'VCF']\n",
      "['Proton_A_816_20181115', 'Proton_A_858_20181228', 'Proton_A_884_20190315']\n",
      "[]\n",
      "[]\n",
      "[]\n",
      "['Proton_A_870_20190131', 'Proton_A_879_20190307', 'Proton_A_894_20190403']\n",
      "[]\n",
      "[]\n",
      "[]\n"
     ]
    }
   ],
   "source": [
    "for root, subdirs, file in os.walk('C:/Users/tywu/Documents/GitHub/TravelingCollect/python101_demo_data/data_with_subdir/'):\n",
    "    print(subdirs)\n",
    "# os.walk一定會吐3種東西出來\n",
    "# file = 最底層找到的file\n",
    "# subdirs = file的上一層找到的folder\n",
    "# root = 目錄底下所有的folder\n"
   ]
  },
  {
   "cell_type": "code",
   "execution_count": 22,
   "metadata": {},
   "outputs": [
    {
     "name": "stdout",
     "output_type": "stream",
     "text": [
      "Proton_A_816_20181115_IonXpress_007.stats.cov.txt\n",
      "Proton_A_816_20181115_IonXpress_009.stats.cov.txt\n",
      "Proton_A_816_20181115_IonXpress_010.stats.cov.txt\n",
      "Proton_A_816_20181115_IonXpress_011.stats.cov.txt\n",
      "Proton_A_816_20181115_IonXpress_012.stats.cov.txt\n",
      "Proton_A_816_20181115_IonXpress_013.stats.cov.txt\n",
      "Proton_A_816_20181115_IonXpress_014.stats.cov.txt\n",
      "Proton_A_816_20181115_IonXpress_036.stats.cov.txt\n",
      "Proton_A_816_20181115_IonXpress_037.stats.cov.txt\n",
      "Proton_A_858_20181228_IonXpress_080.stats.cov.txt\n",
      "Proton_A_858_20181228_IonXpress_081.stats.cov.txt\n",
      "Proton_A_858_20181228_IonXpress_082.stats.cov.txt\n",
      "Proton_A_858_20181228_IonXpress_083.stats.cov.txt\n",
      "Proton_A_884_20190315_IonXpress_074.stats.cov.txt\n",
      "Proton_A_884_20190315_IonXpress_075.stats.cov.txt\n",
      "Proton_A_884_20190315_IonXpress_076.stats.cov.txt\n"
     ]
    }
   ],
   "source": [
    "for root, subdirs, file in os.walk('C:/Users/tywu/Documents/GitHub/TravelingCollect/python101_demo_data/data_with_subdir/'):\n",
    "    for _ in file:\n",
    "        if _.endswith('.txt'):\n",
    "            print(_)"
   ]
  },
  {
   "cell_type": "code",
   "execution_count": null,
   "metadata": {},
   "outputs": [],
   "source": []
  }
 ],
 "metadata": {
  "kernelspec": {
   "display_name": "Python 3",
   "language": "python",
   "name": "python3"
  },
  "language_info": {
   "codemirror_mode": {
    "name": "ipython",
    "version": 3
   },
   "file_extension": ".py",
   "mimetype": "text/x-python",
   "name": "python",
   "nbconvert_exporter": "python",
   "pygments_lexer": "ipython3",
   "version": "3.7.1"
  }
 },
 "nbformat": 4,
 "nbformat_minor": 2
}
