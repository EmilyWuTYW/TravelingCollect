{
 "cells": [
  {
   "cell_type": "code",
   "execution_count": 1,
   "metadata": {},
   "outputs": [],
   "source": [
    "# %load python101_0326.md\n",
    "## python101_0326\n",
    "\n",
    "1. Anaconda install\n",
    "\n",
    "2. Using jupyterlab as our coding tool\n",
    "\n",
    "3. jupyterlab \n",
    "\n",
    "   - command mode :  press 'ESC' \n",
    "   - edit mode : press 'Enter'\n",
    "   - each cell : \n",
    "     - markdown (in command mode : press 'm')\n",
    "     - code (in command mode : press 'y')\n",
    "\n",
    "   - write some codes in cell and execute\n",
    "     - Alt + Enter (execute code and add new cell below)\n",
    "     - Ctrl + Enter (execute code only)\n",
    "     - Shift + Enter (execute code and move to new cell below)\n",
    "\n",
    "   - install package/module in cell\n",
    "     - !pip install emoji (if you want to install python packages you are interesting)\n",
    "     - pypi is the official python packages/modules source\n",
    "\n",
    "   - %run xxx.ipynb or %run xxxx.py (run ipynb or py file in the cell)\n",
    "   - data = 'data here , please using me', %store data and using the data in another ipynb file\n",
    "   - %%wirtefile pythocode.py (output the cell content to pythoncode.py)\n",
    "\n",
    "4. python101 : \n",
    "\n",
    "   - 4 data_type\n",
    "     - int : interger (1, 3, 5)\n",
    "     - float : 小數 (1.3, 2.5)\n",
    "     - string : 字串 ('i am a python string')\n",
    "     - bool : True/False\n",
    "\n",
    "   - assign variable using *=*\n",
    "     - a = 15, b = 'i am a python string'\n",
    "   - compare using *==*(等於) or *!=*(不等於)\n",
    "     - a == 15, a !=16\n",
    "     - b == 'i am a python string', b!='i am not a python string'\n",
    "\n",
    "   - ```python\n",
    "     if a is True:\n",
    "         print (a) # 假設a這個是對的話，則執行下面這件事情\n",
    "     ```"
   ]
  },
  {
   "cell_type": "code",
   "execution_count": 2,
   "metadata": {},
   "outputs": [],
   "source": [
    "# %load python_code.py   # \"%load\"是要看程式的內容; \"%run\"是要直接執行另一個程式\n",
    "\n",
    "a = 5 #註解1\n",
    "b = 6 #註解2\n",
    "print (a+b)\n"
   ]
  },
  {
   "cell_type": "code",
   "execution_count": null,
   "metadata": {},
   "outputs": [],
   "source": [
    "%%writefile 20190402_python101_note.md  # \"%%writefile\"是要將下列code存入後面的檔案\n"
   ]
  },
  {
   "cell_type": "code",
   "execution_count": 5,
   "metadata": {},
   "outputs": [
    {
     "name": "stdout",
     "output_type": "stream",
     "text": [
      "<class 'int'> <class 'str'> <class 'float'> <class 'bool'>\n"
     ]
    }
   ],
   "source": [
    "a = 5\n",
    "b = '5'\n",
    "c = 5.1\n",
    "d = True\n",
    "print (type(a), type(b), type(c), type(d))"
   ]
  },
  {
   "cell_type": "markdown",
   "metadata": {},
   "source": [
    "# if/elif/else statement"
   ]
  },
  {
   "cell_type": "code",
   "execution_count": 7,
   "metadata": {},
   "outputs": [
    {
     "name": "stdout",
     "output_type": "stream",
     "text": [
      "a is less than b\n"
     ]
    }
   ],
   "source": [
    "a = 6\n",
    "b = 8\n",
    "\n",
    "if a > b:\n",
    "    print('a is greater than b')\n",
    "elif a < b:\n",
    "    print('a is less than b')\n",
    "else :\n",
    "    print('do nothing')"
   ]
  },
  {
   "cell_type": "code",
   "execution_count": 9,
   "metadata": {},
   "outputs": [
    {
     "name": "stdout",
     "output_type": "stream",
     "text": [
      "6\n"
     ]
    }
   ],
   "source": [
    "if a:        #判斷a是否存在. 不存在的東西無法判斷, 就會ERROR.\n",
    "    print(a)\n",
    "elif b:\n",
    "    print(b)\n",
    "elif c:\n",
    "    print(c)\n",
    "else:\n",
    "    print(d)"
   ]
  },
  {
   "cell_type": "code",
   "execution_count": 10,
   "metadata": {},
   "outputs": [
    {
     "data": {
      "text/plain": [
       "True"
      ]
     },
     "execution_count": 10,
     "metadata": {},
     "output_type": "execute_result"
    }
   ],
   "source": [
    "g = 3\n",
    "bool(g)"
   ]
  },
  {
   "cell_type": "code",
   "execution_count": 11,
   "metadata": {},
   "outputs": [
    {
     "name": "stdout",
     "output_type": "stream",
     "text": [
      "ya\n"
     ]
    }
   ],
   "source": [
    "if 0:           #通常\"0\"對於python來說是False, \"1\"是\"True\".\n",
    "    print('0')\n",
    "else :\n",
    "    print('ya')"
   ]
  },
  {
   "cell_type": "markdown",
   "metadata": {},
   "source": [
    "# list"
   ]
  },
  {
   "cell_type": "code",
   "execution_count": 12,
   "metadata": {},
   "outputs": [],
   "source": [
    "my_list = ['a', 2, 5.5, True]"
   ]
  },
  {
   "cell_type": "code",
   "execution_count": 13,
   "metadata": {},
   "outputs": [
    {
     "data": {
      "text/plain": [
       "['a', 2, 5.5, True]"
      ]
     },
     "execution_count": 13,
     "metadata": {},
     "output_type": "execute_result"
    }
   ],
   "source": [
    "my_list"
   ]
  },
  {
   "cell_type": "code",
   "execution_count": 14,
   "metadata": {},
   "outputs": [
    {
     "data": {
      "text/plain": [
       "list"
      ]
     },
     "execution_count": 14,
     "metadata": {},
     "output_type": "execute_result"
    }
   ],
   "source": [
    "type(my_list)"
   ]
  },
  {
   "cell_type": "code",
   "execution_count": 16,
   "metadata": {},
   "outputs": [],
   "source": [
    "my_list2 = ['a', '3', ['b', 'c', 7.8], True]"
   ]
  },
  {
   "cell_type": "code",
   "execution_count": 18,
   "metadata": {},
   "outputs": [
    {
     "data": {
      "text/plain": [
       "list"
      ]
     },
     "execution_count": 18,
     "metadata": {},
     "output_type": "execute_result"
    }
   ],
   "source": [
    "type(my_list2)"
   ]
  },
  {
   "cell_type": "code",
   "execution_count": 29,
   "metadata": {},
   "outputs": [],
   "source": [
    "questions = ['Q1', 'Q2', 'Q3', 'Q4', 'Q5']"
   ]
  },
  {
   "cell_type": "code",
   "execution_count": 30,
   "metadata": {},
   "outputs": [
    {
     "data": {
      "text/plain": [
       "['Q1', 'Q2', 'Q3']"
      ]
     },
     "execution_count": 30,
     "metadata": {},
     "output_type": "execute_result"
    }
   ],
   "source": [
    "questions[0:3]    #python都是從0開始, 都只包頭不包尾."
   ]
  },
  {
   "cell_type": "code",
   "execution_count": 31,
   "metadata": {},
   "outputs": [
    {
     "data": {
      "text/plain": [
       "['Q1', 'Q2', 'Q3', 'Q4', 'Q5']"
      ]
     },
     "execution_count": 31,
     "metadata": {},
     "output_type": "execute_result"
    }
   ],
   "source": [
    "questions[:]       #不指定範圍, 預設就是全部"
   ]
  },
  {
   "cell_type": "code",
   "execution_count": 32,
   "metadata": {},
   "outputs": [
    {
     "data": {
      "text/plain": [
       "['Q1', 'Q4']"
      ]
     },
     "execution_count": 32,
     "metadata": {},
     "output_type": "execute_result"
    }
   ],
   "source": [
    "questions[::3]     #跳2格取一次"
   ]
  },
  {
   "cell_type": "code",
   "execution_count": 33,
   "metadata": {},
   "outputs": [
    {
     "data": {
      "text/plain": [
       "5"
      ]
     },
     "execution_count": 33,
     "metadata": {},
     "output_type": "execute_result"
    }
   ],
   "source": [
    "len(questions)"
   ]
  },
  {
   "cell_type": "code",
   "execution_count": 34,
   "metadata": {},
   "outputs": [],
   "source": [
    "questions.append('Q6')"
   ]
  },
  {
   "cell_type": "code",
   "execution_count": 35,
   "metadata": {},
   "outputs": [
    {
     "data": {
      "text/plain": [
       "['Q1', 'Q2', 'Q3', 'Q4', 'Q5', 'Q6']"
      ]
     },
     "execution_count": 35,
     "metadata": {},
     "output_type": "execute_result"
    }
   ],
   "source": [
    "questions"
   ]
  },
  {
   "cell_type": "code",
   "execution_count": 36,
   "metadata": {},
   "outputs": [],
   "source": [
    "questions.remove('Q2')"
   ]
  },
  {
   "cell_type": "code",
   "execution_count": 37,
   "metadata": {},
   "outputs": [
    {
     "data": {
      "text/plain": [
       "['Q1', 'Q3', 'Q4', 'Q5', 'Q6']"
      ]
     },
     "execution_count": 37,
     "metadata": {},
     "output_type": "execute_result"
    }
   ],
   "source": [
    "questions"
   ]
  },
  {
   "cell_type": "code",
   "execution_count": 38,
   "metadata": {},
   "outputs": [],
   "source": [
    "questions.insert(1, 'haha')"
   ]
  },
  {
   "cell_type": "code",
   "execution_count": 39,
   "metadata": {},
   "outputs": [
    {
     "data": {
      "text/plain": [
       "['Q1', 'haha', 'Q3', 'Q4', 'Q5', 'Q6']"
      ]
     },
     "execution_count": 39,
     "metadata": {},
     "output_type": "execute_result"
    }
   ],
   "source": [
    "questions"
   ]
  },
  {
   "cell_type": "code",
   "execution_count": 40,
   "metadata": {},
   "outputs": [
    {
     "data": {
      "text/plain": [
       "['Q6', 'Q4', 'haha']"
      ]
     },
     "execution_count": 40,
     "metadata": {},
     "output_type": "execute_result"
    }
   ],
   "source": [
    "questions[::-2]      #從後面往前每2個取一次."
   ]
  },
  {
   "cell_type": "code",
   "execution_count": 44,
   "metadata": {},
   "outputs": [],
   "source": [
    "tt = [1,2,3,4,5]"
   ]
  },
  {
   "cell_type": "code",
   "execution_count": 50,
   "metadata": {},
   "outputs": [],
   "source": [
    "tt.reverse()"
   ]
  },
  {
   "cell_type": "markdown",
   "metadata": {},
   "source": [
    "# for loop\n",
    "### for ___ in  list:\n",
    "#### 對某元素重複做某事情"
   ]
  },
  {
   "cell_type": "code",
   "execution_count": 51,
   "metadata": {},
   "outputs": [
    {
     "data": {
      "text/plain": [
       "range(0, 10)"
      ]
     },
     "execution_count": 51,
     "metadata": {},
     "output_type": "execute_result"
    }
   ],
   "source": [
    "range(10)"
   ]
  },
  {
   "cell_type": "code",
   "execution_count": 53,
   "metadata": {},
   "outputs": [
    {
     "name": "stdout",
     "output_type": "stream",
     "text": [
      "0\n",
      "1\n",
      "2\n",
      "3\n",
      "4\n"
     ]
    }
   ],
   "source": [
    "for _ in range(5):\n",
    "    print(_)"
   ]
  },
  {
   "cell_type": "code",
   "execution_count": 54,
   "metadata": {},
   "outputs": [
    {
     "name": "stdout",
     "output_type": "stream",
     "text": [
      "q1\n",
      "haha\n",
      "q3\n",
      "q4\n",
      "q5\n",
      "q6\n"
     ]
    }
   ],
   "source": [
    "for _ in questions:\n",
    "    print (_.lower())"
   ]
  },
  {
   "cell_type": "code",
   "execution_count": 55,
   "metadata": {},
   "outputs": [],
   "source": [
    "a = [2, 6, -1, 7, -4, 100]"
   ]
  },
  {
   "cell_type": "code",
   "execution_count": 57,
   "metadata": {},
   "outputs": [
    {
     "name": "stdout",
     "output_type": "stream",
     "text": [
      "2\n",
      "6\n",
      "-1\n",
      "7\n",
      "100\n"
     ]
    }
   ],
   "source": [
    "for i in a:\n",
    "    if (i + 5)*3 >10:\n",
    "        print(i)"
   ]
  },
  {
   "cell_type": "code",
   "execution_count": 59,
   "metadata": {},
   "outputs": [],
   "source": [
    "import os"
   ]
  },
  {
   "cell_type": "code",
   "execution_count": 60,
   "metadata": {},
   "outputs": [
    {
     "data": {
      "text/plain": [
       "['.git',\n",
       " '.ipynb_checkpoints',\n",
       " '20190402_note.ipynb',\n",
       " 'demo-1.ipynb',\n",
       " 'demo-2.ipynb',\n",
       " 'demo-3.ipynb',\n",
       " 'demo.ipynb',\n",
       " 'index.md',\n",
       " 'project1.ipynb',\n",
       " 'python101_0326.md',\n",
       " 'python_code.py',\n",
       " 'README.md',\n",
       " 'world.png']"
      ]
     },
     "execution_count": 60,
     "metadata": {},
     "output_type": "execute_result"
    }
   ],
   "source": [
    "os.listdir()"
   ]
  },
  {
   "cell_type": "code",
   "execution_count": 64,
   "metadata": {},
   "outputs": [
    {
     "name": "stdout",
     "output_type": "stream",
     "text": [
      "20190402_note.ipynb 19\n",
      "demo-1.ipynb 12\n",
      "demo-2.ipynb 12\n",
      "demo-3.ipynb 12\n",
      "demo.ipynb 10\n",
      "project1.ipynb 14\n"
     ]
    }
   ],
   "source": [
    "for _ in os.listdir():\n",
    "    if _.endswith('ipynb'):\n",
    "        lenght = len(_)\n",
    "        print(_, lenght)"
   ]
  },
  {
   "cell_type": "code",
   "execution_count": null,
   "metadata": {},
   "outputs": [],
   "source": []
  }
 ],
 "metadata": {
  "kernelspec": {
   "display_name": "Python 3",
   "language": "python",
   "name": "python3"
  },
  "language_info": {
   "codemirror_mode": {
    "name": "ipython",
    "version": 3
   },
   "file_extension": ".py",
   "mimetype": "text/x-python",
   "name": "python",
   "nbconvert_exporter": "python",
   "pygments_lexer": "ipython3",
   "version": "3.7.1"
  }
 },
 "nbformat": 4,
 "nbformat_minor": 2
}
